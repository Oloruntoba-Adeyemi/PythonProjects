{
 "cells": [
  {
   "cell_type": "code",
   "execution_count": 1,
   "id": "3fad8b02",
   "metadata": {},
   "outputs": [],
   "source": [
    "# Define the file path\n",
    "import pandas as pd"
   ]
  },
  {
   "cell_type": "code",
   "execution_count": 2,
   "id": "ec8b90d3",
   "metadata": {},
   "outputs": [],
   "source": [
    "file_path = 'datasets/PDA - Zappy Loan Data.xlsx'"
   ]
  },
  {
   "cell_type": "code",
   "execution_count": 3,
   "id": "4c2ad392",
   "metadata": {},
   "outputs": [
    {
     "data": {
      "text/html": [
       "<div>\n",
       "<style scoped>\n",
       "    .dataframe tbody tr th:only-of-type {\n",
       "        vertical-align: middle;\n",
       "    }\n",
       "\n",
       "    .dataframe tbody tr th {\n",
       "        vertical-align: top;\n",
       "    }\n",
       "\n",
       "    .dataframe thead th {\n",
       "        text-align: right;\n",
       "    }\n",
       "</style>\n",
       "<table border=\"1\" class=\"dataframe\">\n",
       "  <thead>\n",
       "    <tr style=\"text-align: right;\">\n",
       "      <th></th>\n",
       "      <th>Loan_ID</th>\n",
       "      <th>Gender</th>\n",
       "      <th>Married</th>\n",
       "      <th>Dependents</th>\n",
       "      <th>Graduate</th>\n",
       "      <th>Self_Employed</th>\n",
       "      <th>ApplicantIncome</th>\n",
       "      <th>CoapplicantIncome</th>\n",
       "      <th>LoanAmount</th>\n",
       "      <th>Loan_Amount_Term</th>\n",
       "      <th>Credit_History</th>\n",
       "      <th>Property_Area</th>\n",
       "      <th>Loan_Status</th>\n",
       "    </tr>\n",
       "  </thead>\n",
       "  <tbody>\n",
       "    <tr>\n",
       "      <th>0</th>\n",
       "      <td>2284</td>\n",
       "      <td>1</td>\n",
       "      <td>0</td>\n",
       "      <td>0</td>\n",
       "      <td>0</td>\n",
       "      <td>0</td>\n",
       "      <td>3902</td>\n",
       "      <td>1666.0</td>\n",
       "      <td>109</td>\n",
       "      <td>333</td>\n",
       "      <td>1</td>\n",
       "      <td>3</td>\n",
       "      <td>Y</td>\n",
       "    </tr>\n",
       "    <tr>\n",
       "      <th>1</th>\n",
       "      <td>2287</td>\n",
       "      <td>2</td>\n",
       "      <td>0</td>\n",
       "      <td>0</td>\n",
       "      <td>1</td>\n",
       "      <td>0</td>\n",
       "      <td>1500</td>\n",
       "      <td>1800.0</td>\n",
       "      <td>103</td>\n",
       "      <td>333</td>\n",
       "      <td>0</td>\n",
       "      <td>2</td>\n",
       "      <td>N</td>\n",
       "    </tr>\n",
       "    <tr>\n",
       "      <th>2</th>\n",
       "      <td>2288</td>\n",
       "      <td>1</td>\n",
       "      <td>1</td>\n",
       "      <td>2</td>\n",
       "      <td>0</td>\n",
       "      <td>0</td>\n",
       "      <td>2889</td>\n",
       "      <td>0.0</td>\n",
       "      <td>45</td>\n",
       "      <td>180</td>\n",
       "      <td>0</td>\n",
       "      <td>1</td>\n",
       "      <td>N</td>\n",
       "    </tr>\n",
       "    <tr>\n",
       "      <th>3</th>\n",
       "      <td>2296</td>\n",
       "      <td>1</td>\n",
       "      <td>0</td>\n",
       "      <td>0</td>\n",
       "      <td>0</td>\n",
       "      <td>0</td>\n",
       "      <td>2755</td>\n",
       "      <td>0.0</td>\n",
       "      <td>65</td>\n",
       "      <td>300</td>\n",
       "      <td>1</td>\n",
       "      <td>3</td>\n",
       "      <td>N</td>\n",
       "    </tr>\n",
       "    <tr>\n",
       "      <th>4</th>\n",
       "      <td>2297</td>\n",
       "      <td>1</td>\n",
       "      <td>0</td>\n",
       "      <td>0</td>\n",
       "      <td>1</td>\n",
       "      <td>0</td>\n",
       "      <td>2500</td>\n",
       "      <td>20000.0</td>\n",
       "      <td>103</td>\n",
       "      <td>333</td>\n",
       "      <td>1</td>\n",
       "      <td>2</td>\n",
       "      <td>Y</td>\n",
       "    </tr>\n",
       "    <tr>\n",
       "      <th>...</th>\n",
       "      <td>...</td>\n",
       "      <td>...</td>\n",
       "      <td>...</td>\n",
       "      <td>...</td>\n",
       "      <td>...</td>\n",
       "      <td>...</td>\n",
       "      <td>...</td>\n",
       "      <td>...</td>\n",
       "      <td>...</td>\n",
       "      <td>...</td>\n",
       "      <td>...</td>\n",
       "      <td>...</td>\n",
       "      <td>...</td>\n",
       "    </tr>\n",
       "    <tr>\n",
       "      <th>242</th>\n",
       "      <td>2978</td>\n",
       "      <td>2</td>\n",
       "      <td>0</td>\n",
       "      <td>0</td>\n",
       "      <td>1</td>\n",
       "      <td>0</td>\n",
       "      <td>2900</td>\n",
       "      <td>0.0</td>\n",
       "      <td>71</td>\n",
       "      <td>333</td>\n",
       "      <td>1</td>\n",
       "      <td>3</td>\n",
       "      <td>Y</td>\n",
       "    </tr>\n",
       "    <tr>\n",
       "      <th>243</th>\n",
       "      <td>2979</td>\n",
       "      <td>1</td>\n",
       "      <td>1</td>\n",
       "      <td>3</td>\n",
       "      <td>1</td>\n",
       "      <td>0</td>\n",
       "      <td>4106</td>\n",
       "      <td>0.0</td>\n",
       "      <td>40</td>\n",
       "      <td>180</td>\n",
       "      <td>1</td>\n",
       "      <td>3</td>\n",
       "      <td>Y</td>\n",
       "    </tr>\n",
       "    <tr>\n",
       "      <th>244</th>\n",
       "      <td>2983</td>\n",
       "      <td>1</td>\n",
       "      <td>1</td>\n",
       "      <td>1</td>\n",
       "      <td>1</td>\n",
       "      <td>0</td>\n",
       "      <td>8072</td>\n",
       "      <td>240.0</td>\n",
       "      <td>253</td>\n",
       "      <td>333</td>\n",
       "      <td>1</td>\n",
       "      <td>1</td>\n",
       "      <td>Y</td>\n",
       "    </tr>\n",
       "    <tr>\n",
       "      <th>245</th>\n",
       "      <td>2984</td>\n",
       "      <td>1</td>\n",
       "      <td>1</td>\n",
       "      <td>2</td>\n",
       "      <td>1</td>\n",
       "      <td>0</td>\n",
       "      <td>7583</td>\n",
       "      <td>0.0</td>\n",
       "      <td>187</td>\n",
       "      <td>333</td>\n",
       "      <td>1</td>\n",
       "      <td>1</td>\n",
       "      <td>Y</td>\n",
       "    </tr>\n",
       "    <tr>\n",
       "      <th>246</th>\n",
       "      <td>2990</td>\n",
       "      <td>2</td>\n",
       "      <td>0</td>\n",
       "      <td>0</td>\n",
       "      <td>1</td>\n",
       "      <td>1</td>\n",
       "      <td>4583</td>\n",
       "      <td>0.0</td>\n",
       "      <td>133</td>\n",
       "      <td>333</td>\n",
       "      <td>0</td>\n",
       "      <td>2</td>\n",
       "      <td>N</td>\n",
       "    </tr>\n",
       "  </tbody>\n",
       "</table>\n",
       "<p>247 rows × 13 columns</p>\n",
       "</div>"
      ],
      "text/plain": [
       "     Loan_ID  Gender  Married  Dependents  Graduate  Self_Employed  \\\n",
       "0       2284       1        0           0         0              0   \n",
       "1       2287       2        0           0         1              0   \n",
       "2       2288       1        1           2         0              0   \n",
       "3       2296       1        0           0         0              0   \n",
       "4       2297       1        0           0         1              0   \n",
       "..       ...     ...      ...         ...       ...            ...   \n",
       "242     2978       2        0           0         1              0   \n",
       "243     2979       1        1           3         1              0   \n",
       "244     2983       1        1           1         1              0   \n",
       "245     2984       1        1           2         1              0   \n",
       "246     2990       2        0           0         1              1   \n",
       "\n",
       "     ApplicantIncome  CoapplicantIncome  LoanAmount  Loan_Amount_Term  \\\n",
       "0               3902             1666.0         109               333   \n",
       "1               1500             1800.0         103               333   \n",
       "2               2889                0.0          45               180   \n",
       "3               2755                0.0          65               300   \n",
       "4               2500            20000.0         103               333   \n",
       "..               ...                ...         ...               ...   \n",
       "242             2900                0.0          71               333   \n",
       "243             4106                0.0          40               180   \n",
       "244             8072              240.0         253               333   \n",
       "245             7583                0.0         187               333   \n",
       "246             4583                0.0         133               333   \n",
       "\n",
       "     Credit_History  Property_Area Loan_Status  \n",
       "0                 1              3           Y  \n",
       "1                 0              2           N  \n",
       "2                 0              1           N  \n",
       "3                 1              3           N  \n",
       "4                 1              2           Y  \n",
       "..              ...            ...         ...  \n",
       "242               1              3           Y  \n",
       "243               1              3           Y  \n",
       "244               1              1           Y  \n",
       "245               1              1           Y  \n",
       "246               0              2           N  \n",
       "\n",
       "[247 rows x 13 columns]"
      ]
     },
     "execution_count": 3,
     "metadata": {},
     "output_type": "execute_result"
    }
   ],
   "source": [
    "# Load the dataset into a Pandas DataFrame\n",
    "df = pd.read_excel(file_path)\n",
    "df"
   ]
  },
  {
   "cell_type": "code",
   "execution_count": 4,
   "id": "150e1e13",
   "metadata": {},
   "outputs": [
    {
     "data": {
      "text/html": [
       "<div>\n",
       "<style scoped>\n",
       "    .dataframe tbody tr th:only-of-type {\n",
       "        vertical-align: middle;\n",
       "    }\n",
       "\n",
       "    .dataframe tbody tr th {\n",
       "        vertical-align: top;\n",
       "    }\n",
       "\n",
       "    .dataframe thead th {\n",
       "        text-align: right;\n",
       "    }\n",
       "</style>\n",
       "<table border=\"1\" class=\"dataframe\">\n",
       "  <thead>\n",
       "    <tr style=\"text-align: right;\">\n",
       "      <th></th>\n",
       "      <th>Loan_ID</th>\n",
       "      <th>Gender</th>\n",
       "      <th>Married</th>\n",
       "      <th>Dependents</th>\n",
       "      <th>Graduate</th>\n",
       "      <th>Self_Employed</th>\n",
       "      <th>ApplicantIncome</th>\n",
       "      <th>CoapplicantIncome</th>\n",
       "      <th>LoanAmount</th>\n",
       "      <th>Loan_Amount_Term</th>\n",
       "      <th>Credit_History</th>\n",
       "      <th>Property_Area</th>\n",
       "      <th>Loan_Status</th>\n",
       "    </tr>\n",
       "  </thead>\n",
       "  <tbody>\n",
       "    <tr>\n",
       "      <th>0</th>\n",
       "      <td>2284</td>\n",
       "      <td>1</td>\n",
       "      <td>0</td>\n",
       "      <td>0</td>\n",
       "      <td>0</td>\n",
       "      <td>0</td>\n",
       "      <td>3902</td>\n",
       "      <td>1666.0</td>\n",
       "      <td>109</td>\n",
       "      <td>333</td>\n",
       "      <td>1</td>\n",
       "      <td>3</td>\n",
       "      <td>Y</td>\n",
       "    </tr>\n",
       "    <tr>\n",
       "      <th>1</th>\n",
       "      <td>2287</td>\n",
       "      <td>2</td>\n",
       "      <td>0</td>\n",
       "      <td>0</td>\n",
       "      <td>1</td>\n",
       "      <td>0</td>\n",
       "      <td>1500</td>\n",
       "      <td>1800.0</td>\n",
       "      <td>103</td>\n",
       "      <td>333</td>\n",
       "      <td>0</td>\n",
       "      <td>2</td>\n",
       "      <td>N</td>\n",
       "    </tr>\n",
       "    <tr>\n",
       "      <th>2</th>\n",
       "      <td>2288</td>\n",
       "      <td>1</td>\n",
       "      <td>1</td>\n",
       "      <td>2</td>\n",
       "      <td>0</td>\n",
       "      <td>0</td>\n",
       "      <td>2889</td>\n",
       "      <td>0.0</td>\n",
       "      <td>45</td>\n",
       "      <td>180</td>\n",
       "      <td>0</td>\n",
       "      <td>1</td>\n",
       "      <td>N</td>\n",
       "    </tr>\n",
       "    <tr>\n",
       "      <th>3</th>\n",
       "      <td>2296</td>\n",
       "      <td>1</td>\n",
       "      <td>0</td>\n",
       "      <td>0</td>\n",
       "      <td>0</td>\n",
       "      <td>0</td>\n",
       "      <td>2755</td>\n",
       "      <td>0.0</td>\n",
       "      <td>65</td>\n",
       "      <td>300</td>\n",
       "      <td>1</td>\n",
       "      <td>3</td>\n",
       "      <td>N</td>\n",
       "    </tr>\n",
       "    <tr>\n",
       "      <th>4</th>\n",
       "      <td>2297</td>\n",
       "      <td>1</td>\n",
       "      <td>0</td>\n",
       "      <td>0</td>\n",
       "      <td>1</td>\n",
       "      <td>0</td>\n",
       "      <td>2500</td>\n",
       "      <td>20000.0</td>\n",
       "      <td>103</td>\n",
       "      <td>333</td>\n",
       "      <td>1</td>\n",
       "      <td>2</td>\n",
       "      <td>Y</td>\n",
       "    </tr>\n",
       "  </tbody>\n",
       "</table>\n",
       "</div>"
      ],
      "text/plain": [
       "   Loan_ID  Gender  Married  Dependents  Graduate  Self_Employed  \\\n",
       "0     2284       1        0           0         0              0   \n",
       "1     2287       2        0           0         1              0   \n",
       "2     2288       1        1           2         0              0   \n",
       "3     2296       1        0           0         0              0   \n",
       "4     2297       1        0           0         1              0   \n",
       "\n",
       "   ApplicantIncome  CoapplicantIncome  LoanAmount  Loan_Amount_Term  \\\n",
       "0             3902             1666.0         109               333   \n",
       "1             1500             1800.0         103               333   \n",
       "2             2889                0.0          45               180   \n",
       "3             2755                0.0          65               300   \n",
       "4             2500            20000.0         103               333   \n",
       "\n",
       "   Credit_History  Property_Area Loan_Status  \n",
       "0               1              3           Y  \n",
       "1               0              2           N  \n",
       "2               0              1           N  \n",
       "3               1              3           N  \n",
       "4               1              2           Y  "
      ]
     },
     "execution_count": 4,
     "metadata": {},
     "output_type": "execute_result"
    }
   ],
   "source": [
    "# Display the first few rows of the dataset to understand its structure\n",
    "df.head()"
   ]
  },
  {
   "cell_type": "code",
   "execution_count": 5,
   "id": "9ec070aa",
   "metadata": {},
   "outputs": [],
   "source": [
    "# Map integer values to their corresponding categories\n",
    "gender_mapping = {1: 'Male', 2: 'Female'}\n",
    "married_mapping = {0: 'Single', 1: 'Married'}\n",
    "dependents_mapping = {0: '0', 1: '1', 2: '2', 3: '3+'}\n",
    "graduate_mapping = {0: 'No', 1: 'Yes'}\n",
    "self_employed_mapping = {0: 'No', 1: 'Yes'}\n",
    "credit_history_mapping = {0: 'No', 1: 'Yes'}\n",
    "property_area_mapping = {1: 'Urban', 2: 'Semiurban', 3: 'Rural'}"
   ]
  },
  {
   "cell_type": "code",
   "execution_count": 6,
   "id": "495e7056",
   "metadata": {},
   "outputs": [],
   "source": [
    "# Apply mappings to the DataFrame\n",
    "df['Gender'] = df['Gender'].map(gender_mapping)\n",
    "df['Married'] = df['Married'].map(married_mapping)\n",
    "df['Dependents'] = df['Dependents'].map(dependents_mapping)\n",
    "df['Graduate'] = df['Graduate'].map(graduate_mapping)\n",
    "df['Self_Employed'] = df['Self_Employed'].map(self_employed_mapping)\n",
    "df['Credit_History'] = df['Credit_History'].map(credit_history_mapping)\n",
    "df['Property_Area'] = df['Property_Area'].map(property_area_mapping)"
   ]
  },
  {
   "cell_type": "code",
   "execution_count": 7,
   "id": "f3682ebc",
   "metadata": {},
   "outputs": [
    {
     "data": {
      "text/html": [
       "<div>\n",
       "<style scoped>\n",
       "    .dataframe tbody tr th:only-of-type {\n",
       "        vertical-align: middle;\n",
       "    }\n",
       "\n",
       "    .dataframe tbody tr th {\n",
       "        vertical-align: top;\n",
       "    }\n",
       "\n",
       "    .dataframe thead th {\n",
       "        text-align: right;\n",
       "    }\n",
       "</style>\n",
       "<table border=\"1\" class=\"dataframe\">\n",
       "  <thead>\n",
       "    <tr style=\"text-align: right;\">\n",
       "      <th></th>\n",
       "      <th>Loan_ID</th>\n",
       "      <th>Gender</th>\n",
       "      <th>Married</th>\n",
       "      <th>Dependents</th>\n",
       "      <th>Graduate</th>\n",
       "      <th>Self_Employed</th>\n",
       "      <th>ApplicantIncome</th>\n",
       "      <th>CoapplicantIncome</th>\n",
       "      <th>LoanAmount</th>\n",
       "      <th>Loan_Amount_Term</th>\n",
       "      <th>Credit_History</th>\n",
       "      <th>Property_Area</th>\n",
       "      <th>Loan_Status</th>\n",
       "    </tr>\n",
       "  </thead>\n",
       "  <tbody>\n",
       "    <tr>\n",
       "      <th>0</th>\n",
       "      <td>2284</td>\n",
       "      <td>Male</td>\n",
       "      <td>Single</td>\n",
       "      <td>0</td>\n",
       "      <td>No</td>\n",
       "      <td>No</td>\n",
       "      <td>3902</td>\n",
       "      <td>1666.0</td>\n",
       "      <td>109</td>\n",
       "      <td>333</td>\n",
       "      <td>Yes</td>\n",
       "      <td>Rural</td>\n",
       "      <td>Y</td>\n",
       "    </tr>\n",
       "    <tr>\n",
       "      <th>1</th>\n",
       "      <td>2287</td>\n",
       "      <td>Female</td>\n",
       "      <td>Single</td>\n",
       "      <td>0</td>\n",
       "      <td>Yes</td>\n",
       "      <td>No</td>\n",
       "      <td>1500</td>\n",
       "      <td>1800.0</td>\n",
       "      <td>103</td>\n",
       "      <td>333</td>\n",
       "      <td>No</td>\n",
       "      <td>Semiurban</td>\n",
       "      <td>N</td>\n",
       "    </tr>\n",
       "    <tr>\n",
       "      <th>2</th>\n",
       "      <td>2288</td>\n",
       "      <td>Male</td>\n",
       "      <td>Married</td>\n",
       "      <td>2</td>\n",
       "      <td>No</td>\n",
       "      <td>No</td>\n",
       "      <td>2889</td>\n",
       "      <td>0.0</td>\n",
       "      <td>45</td>\n",
       "      <td>180</td>\n",
       "      <td>No</td>\n",
       "      <td>Urban</td>\n",
       "      <td>N</td>\n",
       "    </tr>\n",
       "    <tr>\n",
       "      <th>3</th>\n",
       "      <td>2296</td>\n",
       "      <td>Male</td>\n",
       "      <td>Single</td>\n",
       "      <td>0</td>\n",
       "      <td>No</td>\n",
       "      <td>No</td>\n",
       "      <td>2755</td>\n",
       "      <td>0.0</td>\n",
       "      <td>65</td>\n",
       "      <td>300</td>\n",
       "      <td>Yes</td>\n",
       "      <td>Rural</td>\n",
       "      <td>N</td>\n",
       "    </tr>\n",
       "    <tr>\n",
       "      <th>4</th>\n",
       "      <td>2297</td>\n",
       "      <td>Male</td>\n",
       "      <td>Single</td>\n",
       "      <td>0</td>\n",
       "      <td>Yes</td>\n",
       "      <td>No</td>\n",
       "      <td>2500</td>\n",
       "      <td>20000.0</td>\n",
       "      <td>103</td>\n",
       "      <td>333</td>\n",
       "      <td>Yes</td>\n",
       "      <td>Semiurban</td>\n",
       "      <td>Y</td>\n",
       "    </tr>\n",
       "  </tbody>\n",
       "</table>\n",
       "</div>"
      ],
      "text/plain": [
       "   Loan_ID  Gender  Married Dependents Graduate Self_Employed  \\\n",
       "0     2284    Male   Single          0       No            No   \n",
       "1     2287  Female   Single          0      Yes            No   \n",
       "2     2288    Male  Married          2       No            No   \n",
       "3     2296    Male   Single          0       No            No   \n",
       "4     2297    Male   Single          0      Yes            No   \n",
       "\n",
       "   ApplicantIncome  CoapplicantIncome  LoanAmount  Loan_Amount_Term  \\\n",
       "0             3902             1666.0         109               333   \n",
       "1             1500             1800.0         103               333   \n",
       "2             2889                0.0          45               180   \n",
       "3             2755                0.0          65               300   \n",
       "4             2500            20000.0         103               333   \n",
       "\n",
       "  Credit_History Property_Area Loan_Status  \n",
       "0            Yes         Rural           Y  \n",
       "1             No     Semiurban           N  \n",
       "2             No         Urban           N  \n",
       "3            Yes         Rural           N  \n",
       "4            Yes     Semiurban           Y  "
      ]
     },
     "execution_count": 7,
     "metadata": {},
     "output_type": "execute_result"
    }
   ],
   "source": [
    "# Display the modified DataFrame\n",
    "df.head()"
   ]
  },
  {
   "cell_type": "code",
   "execution_count": 8,
   "id": "a22b536f",
   "metadata": {},
   "outputs": [],
   "source": [
    "# Save the modified DataFrame to a new CSV file if needed\n",
    "df.to_csv('Modified_Zappy_Loan_Data.csv', index=False)"
   ]
  },
  {
   "cell_type": "code",
   "execution_count": 9,
   "id": "9d53e94e",
   "metadata": {},
   "outputs": [
    {
     "name": "stdout",
     "output_type": "stream",
     "text": [
      "Number of duplicate Loan IDs: 0\n"
     ]
    }
   ],
   "source": [
    "# Check for duplicate Loan IDs\n",
    "duplicates = df.duplicated(subset=['Loan_ID'])\n",
    "print(\"Number of duplicate Loan IDs:\", duplicates.sum())"
   ]
  },
  {
   "cell_type": "code",
   "execution_count": 10,
   "id": "e5792dae",
   "metadata": {},
   "outputs": [
    {
     "name": "stdout",
     "output_type": "stream",
     "text": [
      "Missing values:\n",
      " Loan_ID              0\n",
      "Gender               0\n",
      "Married              0\n",
      "Dependents           0\n",
      "Graduate             0\n",
      "Self_Employed        0\n",
      "ApplicantIncome      0\n",
      "CoapplicantIncome    0\n",
      "LoanAmount           0\n",
      "Loan_Amount_Term     0\n",
      "Credit_History       0\n",
      "Property_Area        0\n",
      "Loan_Status          0\n",
      "dtype: int64\n"
     ]
    }
   ],
   "source": [
    "# Check for missing values\n",
    "missing_values = df.isnull().sum()\n",
    "print(\"Missing values:\\n\", missing_values)"
   ]
  },
  {
   "cell_type": "code",
   "execution_count": 11,
   "id": "1423f5ac",
   "metadata": {},
   "outputs": [],
   "source": [
    "# Handle missing values (you may choose different strategies based on your analysis)\n",
    "df['LoanAmount'].fillna(df['LoanAmount'].mean(), inplace=True)\n",
    "df['Loan_Amount_Term'].fillna(df['Loan_Amount_Term'].mode()[0], inplace=True)"
   ]
  },
  {
   "cell_type": "code",
   "execution_count": 12,
   "id": "5ae8991a",
   "metadata": {},
   "outputs": [
    {
     "name": "stdout",
     "output_type": "stream",
     "text": [
      "Total amount loaned by ZFS: 37699\n"
     ]
    }
   ],
   "source": [
    "# Descriptive Analysis\n",
    "# Total amount loaned by ZFS\n",
    "total_loan_amount = df['LoanAmount'].sum()\n",
    "print(\"Total amount loaned by ZFS:\", total_loan_amount)"
   ]
  },
  {
   "cell_type": "code",
   "execution_count": 13,
   "id": "f1700642",
   "metadata": {},
   "outputs": [
    {
     "name": "stdout",
     "output_type": "stream",
     "text": [
      "Average amount loaned: 152.62753036437246\n"
     ]
    }
   ],
   "source": [
    "# Average amount loaned\n",
    "average_loan_amount = df['LoanAmount'].mean()\n",
    "print(\"Average amount loaned:\", average_loan_amount)"
   ]
  },
  {
   "cell_type": "code",
   "execution_count": 14,
   "id": "249679e4",
   "metadata": {},
   "outputs": [
    {
     "name": "stdout",
     "output_type": "stream",
     "text": [
      "Average loan term: 320.0404858299595\n"
     ]
    }
   ],
   "source": [
    "# Average loan term\n",
    "average_loan_term = df['Loan_Amount_Term'].mean()\n",
    "print(\"Average loan term:\", average_loan_term)"
   ]
  },
  {
   "cell_type": "code",
   "execution_count": 15,
   "id": "2354ba2e",
   "metadata": {},
   "outputs": [
    {
     "name": "stdout",
     "output_type": "stream",
     "text": [
      "Number of Approved and Rejected applicants:\n",
      " Y    167\n",
      "N     80\n",
      "Name: Loan_Status, dtype: int64\n"
     ]
    }
   ],
   "source": [
    "# Total number of applicants broken down into Approved and Rejected\n",
    "applicant_status_counts = df['Loan_Status'].value_counts()\n",
    "print(\"Number of Approved and Rejected applicants:\\n\", applicant_status_counts)"
   ]
  },
  {
   "cell_type": "code",
   "execution_count": 16,
   "id": "11341328",
   "metadata": {},
   "outputs": [
    {
     "name": "stdout",
     "output_type": "stream",
     "text": [
      "Number of males and females in each case:\n",
      " Gender       Female  Male\n",
      "Loan_Status              \n",
      "N                16    64\n",
      "Y                33   134\n"
     ]
    }
   ],
   "source": [
    "# Number of males and females in each case\n",
    "gender_counts = df.groupby(['Loan_Status', 'Gender'])['Gender'].count().unstack()\n",
    "print(\"Number of males and females in each case:\\n\", gender_counts)"
   ]
  },
  {
   "cell_type": "code",
   "execution_count": 17,
   "id": "9bf07e83",
   "metadata": {},
   "outputs": [],
   "source": [
    "# Visualize the above information in a bar chart\n",
    "import matplotlib.pyplot as plt"
   ]
  },
  {
   "cell_type": "code",
   "execution_count": 18,
   "id": "94b62e1b",
   "metadata": {},
   "outputs": [
    {
     "data": {
      "image/png": "[encoded data removed]",
      "text/plain": [
       "<Figure size 640x480 with 1 Axes>"
      ]
     },
     "metadata": {},
     "output_type": "display_data"
    }
   ],
   "source": [
    "gender_counts.plot(kind='bar', stacked=True)\n",
    "plt.title('Applicants by Loan Status and Gender')\n",
    "plt.xlabel('Loan Status')\n",
    "plt.ylabel('Number of Applicants')\n",
    "plt.legend(title='Gender')\n",
    "plt.show()"
   ]
  },
  {
   "cell_type": "code",
   "execution_count": 19,
   "id": "b9c5196f",
   "metadata": {},
   "outputs": [
    {
     "name": "stdout",
     "output_type": "stream",
     "text": [
      "Maximum loan amount: 600\n",
      "Minimum loan amount: 9\n"
     ]
    }
   ],
   "source": [
    "# Maximum and minimum loan amounts\n",
    "max_loan_amount = df['LoanAmount'].max()\n",
    "min_loan_amount = df['LoanAmount'].min()\n",
    "print(\"Maximum loan amount:\", max_loan_amount)\n",
    "print(\"Minimum loan amount:\", min_loan_amount)"
   ]
  },
  {
   "cell_type": "code",
   "execution_count": 20,
   "id": "8e373de3",
   "metadata": {},
   "outputs": [
    {
     "data": {
      "image/png": "[encoded data removed]",
      "text/plain": [
       "<Figure size 640x480 with 1 Axes>"
      ]
     },
     "metadata": {},
     "output_type": "display_data"
    }
   ],
   "source": [
    "# Visualize the maximum and minimum loan amounts\n",
    "plt.bar(['Maximum', 'Minimum'], [max_loan_amount, min_loan_amount])\n",
    "plt.title('Maximum and Minimum Loan Amounts')\n",
    "plt.xlabel('Loan Amount')\n",
    "plt.ylabel('Amount in USD')\n",
    "plt.show()"
   ]
  },
  {
   "cell_type": "code",
   "execution_count": 21,
   "id": "e5122119",
   "metadata": {},
   "outputs": [
    {
     "name": "stdout",
     "output_type": "stream",
     "text": [
      "Percentage of self-employed who had their loan approved:\n",
      " No     86.227545\n",
      "Yes    13.772455\n",
      "Name: Self_Employed, dtype: float64\n"
     ]
    }
   ],
   "source": [
    "# Number of self-employed who had their loan approved\n",
    "self_employed_approved = df[df['Loan_Status'] == 'Y']['Self_Employed'].value_counts()\n",
    "self_employed_percentage = (self_employed_approved / self_employed_approved.sum()) * 100\n",
    "print(\"Percentage of self-employed who had their loan approved:\\n\", self_employed_percentage)"
   ]
  },
  {
   "cell_type": "code",
   "execution_count": 22,
   "id": "f5aaadf9",
   "metadata": {},
   "outputs": [
    {
     "data": {
      "image/png": "[encoded data removed]",
      "text/plain": [
       "<Figure size 640x480 with 1 Axes>"
      ]
     },
     "metadata": {},
     "output_type": "display_data"
    }
   ],
   "source": [
    "# Visualize the percentage of self-employed who had their loan approved\n",
    "self_employed_percentage.plot(kind='bar')\n",
    "plt.title('Percentage of Self-Employed Applicants with Approved Loans')\n",
    "plt.xlabel('Self-Employed')\n",
    "plt.ylabel('Percentage')\n",
    "plt.show()"
   ]
  },
  {
   "cell_type": "code",
   "execution_count": null,
   "id": "c001be31",
   "metadata": {},
   "outputs": [],
   "source": []
  }
 ],
 "metadata": {
  "kernelspec": {
   "display_name": "Python 3 (ipykernel)",
   "language": "python",
   "name": "python3"
  },
  "language_info": {
   "codemirror_mode": {
    "name": "ipython",
    "version": 3
   },
   "file_extension": ".py",
   "mimetype": "text/x-python",
   "name": "python",
   "nbconvert_exporter": "python",
   "pygments_lexer": "ipython3",
   "version": "3.11.4"
  }
 },
 "nbformat": 4,
 "nbformat_minor": 5
}
